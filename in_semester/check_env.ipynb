{
 "cells": [
  {
   "cell_type": "code",
   "execution_count": 3,
   "metadata": {},
   "outputs": [
    {
     "name": "stdout",
     "output_type": "stream",
     "text": [
      "The autoreload extension is already loaded. To reload it, use:\n",
      "  %reload_ext autoreload\n",
      "action:  [-0.02341034 -0.03274762  0.03190119  0.96771145]\n",
      "action:  [-0.6812922   0.08972279  0.8773192  -0.15718015]\n",
      "action:  [ 0.48663974 -0.9532046  -0.6293634  -0.13287595]\n",
      "action:  [ 0.06347141 -0.07367864 -0.44028392  0.6775386 ]\n",
      "action:  [ 0.30269867 -0.47084725 -0.00360051  0.20585945]\n",
      "action:  [ 0.49359924 -0.28159565 -0.5457177  -0.50731075]\n",
      "action:  [ 0.6335614  -0.08479877  0.42602092  0.30285656]\n",
      "action:  [ 0.39907256 -0.4950732  -0.27741322  0.37977898]\n",
      "action:  [ 0.6690087   0.21148174 -0.12807763 -0.5762682 ]\n",
      "action:  [ 0.58211553 -0.9218518   0.03731938  0.7167924 ]\n",
      "action:  [-0.5518142   0.83236444 -0.98257095  0.5962204 ]\n"
     ]
    }
   ],
   "source": [
    "%load_ext autoreload\n",
    "%autoreload 2\n",
    "\n",
    "from stable_baselines3.common.env_checker import check_env\n",
    "\n",
    "from canvas_env import CanvasEnv\n",
    "\n",
    "import stable_baselines3\n",
    "\n",
    "env = CanvasEnv()\n",
    "\n",
    "check_env(env)"
   ]
  }
 ],
 "metadata": {
  "kernelspec": {
   "display_name": "base",
   "language": "python",
   "name": "python3"
  },
  "language_info": {
   "codemirror_mode": {
    "name": "ipython",
    "version": 3
   },
   "file_extension": ".py",
   "mimetype": "text/x-python",
   "name": "python",
   "nbconvert_exporter": "python",
   "pygments_lexer": "ipython3",
   "version": "3.11.3"
  },
  "orig_nbformat": 4
 },
 "nbformat": 4,
 "nbformat_minor": 2
}
