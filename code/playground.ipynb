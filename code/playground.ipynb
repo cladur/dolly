{
 "cells": [
  {
   "cell_type": "code",
   "execution_count": 5,
   "metadata": {},
   "outputs": [
    {
     "name": "stdout",
     "output_type": "stream",
     "text": [
      "[[0.4, 0.4, 0.5, 0.5, 0.6, 0.6, 0.1, 0.1, 1, 1, 1, 1, 1, 1], [0, 0, 0, 0, 0, 0, 0, 0, 0, 0, 0, 0, 0, 0], [0, 0, 0, 0, 0, 0, 0, 0, 0, 0, 0, 0, 0, 0], [0, 0, 0, 0, 0, 0, 0, 0, 0, 0, 0, 0, 0, 0], [0, 0, 0, 0, 0, 0, 0, 0, 0, 0, 0, 0, 0, 0]]\n"
     ]
    },
    {
     "data": {
      "image/png": "[encoded data removed]",
      "text/plain": [
       "<PIL.Image.Image image mode=RGBA size=128x128>"
      ]
     },
     "metadata": {},
     "output_type": "display_data"
    }
   ],
   "source": [
    "from canvas_env import decode\n",
    "import torch\n",
    "from PIL import Image\n",
    "from IPython.display import display\n",
    "\n",
    "#                                        size    opacity\n",
    "# 0-9: stroke - (x0, y0, x1, y1, x2, y2, z0, z2, w0, w2)\n",
    "# 10-12: color\n",
    "# 13: erase or draw\n",
    "# action = [\n",
    "#     [0.4, 0.4, 0.5, 0.5, 0.6, 0.6, 0.1, 0.1, 1, 1, 1, 1, 1, 1],\n",
    "#     [0, 0, 0, 0, 0, 0, 0, 0, 0, 0, 0, 0, 0, 0],\n",
    "#     [0, 0, 0, 0, 0, 0, 0, 0, 0, 0, 0, 0, 0, 0],\n",
    "#     [0, 0, 0, 0, 0, 0, 0, 0, 0, 0, 0, 0, 0, 0],\n",
    "#     [0, 0, 0, 0, 0, 0, 0, 0, 0, 0, 0, 0, 0, 0]\n",
    "# ]\n",
    "\n",
    "action = [\n",
    "    [1.0, 1.0, 0.43, 0.99, 0.15, 1.0, 0.32, 0.15, 0.41, 0.3, 0.0, 0.0, 0.0, 0.46], \n",
    "    [0.81, 0.14, 1.0, 0.0, 0.22, 0.45, 1.0, 1.0, 0.59, 0.02, 0.13, 0.17, 0.21, 0.53], \n",
    "    [0.99, 0.36, 0.01, 0.96, 0.83, 0.0, 0.03, 0.61, 0.68, 0.97, 0.01, 0.0, 0.01, 0.42], \n",
    "    [0.01, 0.71, 0.21, 1.0, 0.3, 0.99, 0.31, 0.19, 1.0, 0.76, 0.0, 0.0, 0.0, 0.39], \n",
    "    [0.17, 0.73, 1.0, 0.0, 0.87, 0.27, 1.0, 1.0, 0.2, 0.1, 0.09, 0.1, 0.11, 0.67]\n",
    "]\n",
    "\n",
    "# round up action numbers to 2 decimal places\n",
    "for i in range(len(action)):\n",
    "    for j in range(len(action[i])):\n",
    "        action[i][j] = round(action[i][j], 2)\n",
    "\n",
    "\n",
    "print(str(action))\n",
    "\n",
    "action = torch.tensor(action, dtype=torch.float32)\n",
    "\n",
    "canvas = torch.zeros(1, 4, 128, 128)\n",
    "\n",
    "canvas = decode(action, canvas)\n",
    "\n",
    "display(Image.fromarray((canvas\n",
    "[0].permute(1, 2, 0).detach().numpy() * 255).astype('uint8')))"
   ]
  }
 ],
 "metadata": {
  "kernelspec": {
   "display_name": "Python 3",
   "language": "python",
   "name": "python3"
  },
  "language_info": {
   "codemirror_mode": {
    "name": "ipython",
    "version": 3
   },
   "file_extension": ".py",
   "mimetype": "text/x-python",
   "name": "python",
   "nbconvert_exporter": "python",
   "pygments_lexer": "ipython3",
   "version": "3.11.6"
  }
 },
 "nbformat": 4,
 "nbformat_minor": 2
}
