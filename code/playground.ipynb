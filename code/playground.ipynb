{
 "cells": [
  {
   "cell_type": "code",
   "execution_count": 10,
   "metadata": {},
   "outputs": [
    {
     "name": "stdout",
     "output_type": "stream",
     "text": [
      "tensor([1.0000, 0.0000, 0.0000, 0.5848], grad_fn=<SelectBackward0>)\n"
     ]
    },
    {
     "data": {
      "image/png": "[encoded data removed]",
      "text/plain": [
       "<PIL.Image.Image image mode=RGBA size=128x128>"
      ]
     },
     "metadata": {},
     "output_type": "display_data"
    }
   ],
   "source": [
    "from canvas_env import decode, get_dist\n",
    "import torch\n",
    "from PIL import Image\n",
    "from IPython.display import display\n",
    "\n",
    "#                                        size    opacity\n",
    "# 0-9: stroke - (x0, y0, x1, y1, x2, y2, z0, z2, w0, w2)\n",
    "# 10-12: color\n",
    "# 13: erase or draw\n",
    "\n",
    "action = [\n",
    "    #x0      y0      x1      y1      x2      y2      z0      z2      w0      w2      r       g       b       e\n",
    "    [0, 0, 0, 0, 0, 0, 0, 0, 0, 0, 0, 0, 0, 0],\n",
    "    [0, 0, 0, 0, 0, 0, 0, 0, 0, 0, 0, 0, 0, 0],\n",
    "    [0, 0, 0, 0, 0, 0, 0, 0, 0, 0, 0, 0, 0, 0],\n",
    "    # [0.5, 0.5, 0.75, 0.75, 1.0, 1.0, 0.9999, 0.9998, 0.5,    0.5, 0, 1, 0, 0.5994],\n",
    "    [0.0, 0.25, 0.5, 0.25, 1.0, 0.25, 0.9999, 0.9998, 0.0,    1.0, 1, 0, 0, 0.5994],\n",
    "    [0.0, 0.75, 0.5, 0.75, 1.0, 0.75, 0.9999, 0.0,    0.0,    1.0, 0, 1, 0, 0.5994],\n",
    "    #[0.0, 1.0, 0.5, 0.5, 1.0, 0.0, 0.9884, 0.9799, 1.0,    1.0, 1, 0, 0, 0.6029],\n",
    "\n",
    "    # [0.6958, 0.5215, 0.0003, 0.9997, 0.2324, 0.6957, 0.9999, 0.9998, 1.0,    1.0, 0, 1, 0, 0.5994],\n",
    "    # [0.2512, 0.7667, 0.0159, 0.8627, 0.3469, 0.2216, 0.9884, 0.9799, 1.0,    1.0, 1, 0, 0, 0.3029],\n",
    "    # [0.2512, 0.7667, 0.0159, 0.8627, 0.3469, 0.2216, 0.9884, 0.9799, 1.0,    0.5, 1, 0, 0, 0.529]\n",
    "    \n",
    "    # [0, 0, 0, 0, 0, 0, 0, 0, 0, 0, 0, 0, 0, 0]\n",
    "]\n",
    "\n",
    "\n",
    "# round up action numbers to 2 decimal places\n",
    "for i in range(len(action)):\n",
    "    for j in range(len(action[i])):\n",
    "        action[i][j] = round(action[i][j], 4)\n",
    "\n",
    "# print(str(action))\n",
    "\n",
    "action = torch.tensor(action, dtype=torch.float32)\n",
    "\n",
    "canvas = torch.zeros(1, 4, 128, 128)\n",
    "\n",
    "canvas = decode(action, canvas)\n",
    "\n",
    "canvas[:, :3] = canvas[:, :3] / (canvas[:, 3:4] + 1e-8)\n",
    "\n",
    "# sample color from canvas\n",
    "print(canvas[0, :, int(0.34 * 128), int(0.22 * 128)])\n",
    "\n",
    "display(Image.fromarray((canvas[0].permute(1, 2, 0).detach().numpy() * 255).astype('uint8')))"
   ]
  }
 ],
 "metadata": {
  "kernelspec": {
   "display_name": "Python 3",
   "language": "python",
   "name": "python3"
  },
  "language_info": {
   "codemirror_mode": {
    "name": "ipython",
    "version": 3
   },
   "file_extension": ".py",
   "mimetype": "text/x-python",
   "name": "python",
   "nbconvert_exporter": "python",
   "pygments_lexer": "ipython3",
   "version": "3.11.6"
  }
 },
 "nbformat": 4,
 "nbformat_minor": 2
}
