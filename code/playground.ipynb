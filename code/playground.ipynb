{
 "cells": [
  {
   "cell_type": "code",
   "execution_count": 4,
   "metadata": {},
   "outputs": [
    {
     "name": "stdout",
     "output_type": "stream",
     "text": [
      "[[0.1245, 0.2214, 0.9806, 0.0046, 0.3897, 0.5949, 0.9824, 0.9176, 0.9531, 0.281, 0.1734, 0.262, 0.3383, 0.3882], [0.2311, 0.198, 0.9921, 0.0183, 0.7092, 0.6321, 0.9997, 0.995, 0.8789, 0.891, 0.3702, 0.5409, 0.6349, 0.5277], [0.7939, 0.7529, 0.9986, 0.0014, 0.1917, 0.1801, 0.9995, 0.9996, 0.7777, 0.8363, 0.3012, 0.4603, 0.5175, 0.7585], [0.0002, 0.5036, 0.0001, 1.0, 0.1475, 0.0002, 0.1721, 0.4497, 0.5822, 0.7441, 0.0175, 0.0351, 0.0147, 0.3743], [0.982, 0.9701, 0.0018, 0.999, 0.8859, 0.7122, 0.7677, 0.0361, 0.9181, 0.0014, 0.0649, 0.0926, 0.1178, 0.3533]]\n"
     ]
    },
    {
     "ename": "TypeError",
     "evalue": "ZMQDisplayPublisher.publish() got an unexpected keyword argument 'mode'",
     "output_type": "error",
     "traceback": [
      "\u001b[0;31m---------------------------------------------------------------------------\u001b[0m",
      "\u001b[0;31mTypeError\u001b[0m                                 Traceback (most recent call last)",
      "Cell \u001b[0;32mIn[4], line 42\u001b[0m\n\u001b[1;32m     38\u001b[0m canvas \u001b[38;5;241m=\u001b[39m torch\u001b[38;5;241m.\u001b[39mzeros(\u001b[38;5;241m1\u001b[39m, \u001b[38;5;241m4\u001b[39m, \u001b[38;5;241m128\u001b[39m, \u001b[38;5;241m128\u001b[39m)\n\u001b[1;32m     40\u001b[0m canvas \u001b[38;5;241m=\u001b[39m decode(action, canvas)\n\u001b[0;32m---> 42\u001b[0m \u001b[43mdisplay\u001b[49m\u001b[43m(\u001b[49m\u001b[43mImage\u001b[49m\u001b[38;5;241;43m.\u001b[39;49m\u001b[43mfromarray\u001b[49m\u001b[43m(\u001b[49m\u001b[43m(\u001b[49m\u001b[43mcanvas\u001b[49m\u001b[43m[\u001b[49m\u001b[38;5;241;43m0\u001b[39;49m\u001b[43m]\u001b[49m\u001b[38;5;241;43m.\u001b[39;49m\u001b[43mpermute\u001b[49m\u001b[43m(\u001b[49m\u001b[38;5;241;43m1\u001b[39;49m\u001b[43m,\u001b[49m\u001b[43m \u001b[49m\u001b[38;5;241;43m2\u001b[39;49m\u001b[43m,\u001b[49m\u001b[43m \u001b[49m\u001b[38;5;241;43m0\u001b[39;49m\u001b[43m)\u001b[49m\u001b[38;5;241;43m.\u001b[39;49m\u001b[43mdetach\u001b[49m\u001b[43m(\u001b[49m\u001b[43m)\u001b[49m\u001b[38;5;241;43m.\u001b[39;49m\u001b[43mnumpy\u001b[49m\u001b[43m(\u001b[49m\u001b[43m)\u001b[49m\u001b[43m \u001b[49m\u001b[38;5;241;43m*\u001b[39;49m\u001b[43m \u001b[49m\u001b[38;5;241;43m255\u001b[39;49m\u001b[43m)\u001b[49m\u001b[38;5;241;43m.\u001b[39;49m\u001b[43mastype\u001b[49m\u001b[43m(\u001b[49m\u001b[38;5;124;43m'\u001b[39;49m\u001b[38;5;124;43muint8\u001b[39;49m\u001b[38;5;124;43m'\u001b[39;49m\u001b[43m)\u001b[49m\u001b[43m)\u001b[49m\u001b[43m,\u001b[49m\u001b[43m \u001b[49m\u001b[43mmode\u001b[49m\u001b[38;5;241;43m=\u001b[39;49m\u001b[38;5;124;43m'\u001b[39;49m\u001b[38;5;124;43mBGRA\u001b[39;49m\u001b[38;5;124;43m'\u001b[39;49m\u001b[43m)\u001b[49m\n",
      "File \u001b[0;32m~/Library/Python/3.11/lib/python/site-packages/IPython/core/display_functions.py:305\u001b[0m, in \u001b[0;36mdisplay\u001b[0;34m(include, exclude, metadata, transient, display_id, raw, clear, *objs, **kwargs)\u001b[0m\n\u001b[1;32m    302\u001b[0m         \u001b[38;5;28;01mif\u001b[39;00m metadata:\n\u001b[1;32m    303\u001b[0m             \u001b[38;5;66;03m# kwarg-specified metadata gets precedence\u001b[39;00m\n\u001b[1;32m    304\u001b[0m             _merge(md_dict, metadata)\n\u001b[0;32m--> 305\u001b[0m         \u001b[43mpublish_display_data\u001b[49m\u001b[43m(\u001b[49m\u001b[43mdata\u001b[49m\u001b[38;5;241;43m=\u001b[39;49m\u001b[43mformat_dict\u001b[49m\u001b[43m,\u001b[49m\u001b[43m \u001b[49m\u001b[43mmetadata\u001b[49m\u001b[38;5;241;43m=\u001b[39;49m\u001b[43mmd_dict\u001b[49m\u001b[43m,\u001b[49m\u001b[43m \u001b[49m\u001b[38;5;241;43m*\u001b[39;49m\u001b[38;5;241;43m*\u001b[39;49m\u001b[43mkwargs\u001b[49m\u001b[43m)\u001b[49m\n\u001b[1;32m    306\u001b[0m \u001b[38;5;28;01mif\u001b[39;00m display_id:\n\u001b[1;32m    307\u001b[0m     \u001b[38;5;28;01mreturn\u001b[39;00m DisplayHandle(display_id)\n",
      "File \u001b[0;32m~/Library/Python/3.11/lib/python/site-packages/IPython/core/display_functions.py:93\u001b[0m, in \u001b[0;36mpublish_display_data\u001b[0;34m(data, metadata, source, transient, **kwargs)\u001b[0m\n\u001b[1;32m     90\u001b[0m \u001b[38;5;28;01mif\u001b[39;00m transient:\n\u001b[1;32m     91\u001b[0m     kwargs[\u001b[38;5;124m'\u001b[39m\u001b[38;5;124mtransient\u001b[39m\u001b[38;5;124m'\u001b[39m] \u001b[38;5;241m=\u001b[39m transient\n\u001b[0;32m---> 93\u001b[0m \u001b[43mdisplay_pub\u001b[49m\u001b[38;5;241;43m.\u001b[39;49m\u001b[43mpublish\u001b[49m\u001b[43m(\u001b[49m\n\u001b[1;32m     94\u001b[0m \u001b[43m    \u001b[49m\u001b[43mdata\u001b[49m\u001b[38;5;241;43m=\u001b[39;49m\u001b[43mdata\u001b[49m\u001b[43m,\u001b[49m\n\u001b[1;32m     95\u001b[0m \u001b[43m    \u001b[49m\u001b[43mmetadata\u001b[49m\u001b[38;5;241;43m=\u001b[39;49m\u001b[43mmetadata\u001b[49m\u001b[43m,\u001b[49m\n\u001b[1;32m     96\u001b[0m \u001b[43m    \u001b[49m\u001b[38;5;241;43m*\u001b[39;49m\u001b[38;5;241;43m*\u001b[39;49m\u001b[43mkwargs\u001b[49m\n\u001b[1;32m     97\u001b[0m \u001b[43m\u001b[49m\u001b[43m)\u001b[49m\n",
      "\u001b[0;31mTypeError\u001b[0m: ZMQDisplayPublisher.publish() got an unexpected keyword argument 'mode'"
     ]
    }
   ],
   "source": [
    "from canvas_env import decode\n",
    "import torch\n",
    "from PIL import Image\n",
    "from IPython.display import display\n",
    "\n",
    "#                                        size    opacity\n",
    "# 0-9: stroke - (x0, y0, x1, y1, x2, y2, z0, z2, w0, w2)\n",
    "# 10-12: color\n",
    "# 13: erase or draw\n",
    "# action = [\n",
    "#     [0.4, 0.4, 0.5, 0.5, 0.6, 0.6, 0.1, 0.1, 1, 1, 1, 1, 1, 1],\n",
    "#     [0, 0, 0, 0, 0, 0, 0, 0, 0, 0, 0, 0, 0, 0],\n",
    "#     [0, 0, 0, 0, 0, 0, 0, 0, 0, 0, 0, 0, 0, 0],\n",
    "#     [0, 0, 0, 0, 0, 0, 0, 0, 0, 0, 0, 0, 0, 0],\n",
    "#     [0, 0, 0, 0, 0, 0, 0, 0, 0, 0, 0, 0, 0, 0]\n",
    "# ]\n",
    "\n",
    "action = [\n",
    "    #x0      y0      x1      y1      x2      y2      z0      z2      w0      w2      r       g       b       e\n",
    "    [0.1245, 0.2214, 0.9806, 0.0046, 0.3897, 0.5949, 0.9824, 0.9176, 0.9531, 0.281,  0.1734, 0.262,  0.3383, 0.3882], \n",
    "    [0.2311, 0.198,  0.9921, 0.0183, 0.7092, 0.6321, 0.9997, 0.995,  0.8789, 0.891,  0.3702, 0.5409, 0.6349, 0.5277], \n",
    "    [0.7939, 0.7529, 0.9986, 0.0014, 0.1917, 0.1801, 0.9995, 0.9996, 0.7777, 0.8363, 0.3012, 0.4603, 0.5175, 0.7585], \n",
    "    [0.0002, 0.5036, 0.0001, 1.0,    0.1475, 0.0002, 0.1721, 0.4497, 0.5822, 0.7441, 0.0175, 0.0351, 0.0147, 0.3743], \n",
    "    [0.982,  0.9701, 0.0018, 0.999,  0.8859, 0.7122, 0.7677, 0.0361, 0.9181, 0.0014, 0.0649, 0.0926, 0.1178, 0.3533]\n",
    "]\n",
    "\n",
    "\n",
    "# round up action numbers to 2 decimal places\n",
    "for i in range(len(action)):\n",
    "    for j in range(len(action[i])):\n",
    "        action[i][j] = round(action[i][j], 4)\n",
    "\n",
    "\n",
    "print(str(action))\n",
    "\n",
    "action = torch.tensor(action, dtype=torch.float32)\n",
    "\n",
    "canvas = torch.zeros(1, 4, 128, 128)\n",
    "\n",
    "canvas = decode(action, canvas)\n",
    "\n",
    "# swap red and blue channels\n",
    "canvas = canvas[:, [2, 1, 0, 3], :, :]\n",
    "\n",
    "display(Image.fromarray((canvas[0].permute(1, 2, 0).detach().numpy() * 255).astype('uint8')))"
   ]
  }
 ],
 "metadata": {
  "kernelspec": {
   "display_name": "Python 3",
   "language": "python",
   "name": "python3"
  },
  "language_info": {
   "codemirror_mode": {
    "name": "ipython",
    "version": 3
   },
   "file_extension": ".py",
   "mimetype": "text/x-python",
   "name": "python",
   "nbconvert_exporter": "python",
   "pygments_lexer": "ipython3",
   "version": "3.11.6"
  }
 },
 "nbformat": 4,
 "nbformat_minor": 2
}
